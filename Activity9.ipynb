{
 "cells": [
  {
   "cell_type": "code",
   "execution_count": 24,
   "id": "c51f3fb6-f193-4e85-b42a-d2a7ffcaa738",
   "metadata": {},
   "outputs": [
    {
     "name": "stdout",
     "output_type": "stream",
     "text": [
      "Sorted list: [10, 11, 13, 433, 726]\n"
     ]
    }
   ],
   "source": [
    "list = [10,726,433,13,11]\n",
    "sorted_list = bubble_sort(list, order='ascending')\n",
    "print(\"Sorted list:\", sorted_list)"
   ]
  },
  {
   "cell_type": "markdown",
   "id": "e5a67402-6c38-4b7a-8516-7a368c1f0ca5",
   "metadata": {},
   "source": [
    "### Heap Sort Process\n",
    "\n",
    "#### Initial List:\n",
    "`[10, 7, 26, 43, 3, 13, 11]`\n",
    "\n",
    "#### Heapify node 2:\n",
    "- Left child: 13, Right child: 11\n",
    "- Largest is left child (26)\n",
    "- Swap 26 with 26 (no change)\n",
    "\n",
    "**List:**\n",
    "`[10, 7, 26, 43, 3, 13, 11]`\n",
    "\n",
    "#### Heapify node 1:\n",
    "- Left child: 43, Right child: 3\n",
    "- Largest is left child (43)\n",
    "- Swap 43 with 7\n",
    "\n",
    "**List:**\n",
    "`[10, 43, 26, 7, 3, 13, 11]`\n",
    "\n",
    "#### Heapify node 0:\n",
    "- Left child: 43, Right child: 26\n",
    "- Largest is left child (43)\n",
    "- Swap 43 with 10\n",
    "\n",
    "**List:**\n",
    "`[43, 10, 26, 7, 3, 13, 11]`\n",
    "\n",
    "#### Heapify node 1 again:\n",
    "- Left child: 7, Right child: 3\n",
    "- No swap needed\n",
    "\n",
    "### Extracting Elements from the Heap\n",
    "#### Swap root with last element:\n",
    "`[11, 10, 26, 7, 3, 13, 43]`\n",
    "\n",
    "#### Heapify node 0:\n",
    "- Left child: 10, Right child: 26\n",
    "- Largest is right child (26)\n",
    "- Swap 26 with 11\n",
    "\n",
    "**List:**\n",
    "`[26, 10, 11, 7, 3, 13, 43]`\n",
    "\n",
    "#### Heapify node 2:\n",
    "- Left child: 13, Right child: (none)\n",
    "- Largest is left child (13)\n",
    "- Swap 13 with 11\n",
    "\n",
    "**List:**\n",
    "`[26, 10, 13, 7, 3, 11, 43]`\n",
    "\n",
    "#### Swap root with second last element:\n",
    "`[3, 10, 13, 7, 26, 11, 43]`\n",
    "\n",
    "#### Heapify node 0:\n",
    "- Left child: 10, Right child: 13\n",
    "- Largest is right child (13)\n",
    "- Swap 13 with 3\n",
    "\n",
    "**List:**\n",
    "`[13, 10, 3, 7, 26, 11, 43]`\n",
    "\n",
    "#### Heapify node 2:\n",
    "- No swap needed\n",
    "\n",
    "#### Swap root with third last element:\n",
    "`[7, 10, 3, 13, 26, 11, 43]`\n",
    "\n",
    "#### Heapify node 0:\n",
    "- Left child: 10, Right child: 3\n",
    "- Largest is left child (10)\n",
    "- Swap 10 with 7\n",
    "\n",
    "**List:**\n",
    "`[10, 7, 3, 13, 26, 11, 43]`\n",
    "\n",
    "#### Swap root with fourth last element:\n",
    "`[3, 7, 10, 13, 26, 11, 43]`\n",
    "\n",
    "#### Heapify node 0:\n",
    "- Left child: 7, Right child: 10\n",
    "- Largest is left child (10)\n",
    "- Swap 10 with 3\n",
    "\n",
    "**List:**\n",
    "`[10, 7, 3, 13, 26, 11, 43]`\n",
    "\n",
    "#### Swap root with fifth last element:\n",
    "`[3, 7, 10, 13, 26, 11, 43]`\n",
    "\n",
    "#### Heapify node 0:\n",
    "- No swap needed\n",
    "\n",
    "### The final sorted list is:\n",
    "`[3, 7, 10, 11, 13, 26, 43]`\n"
   ]
  },
  {
   "cell_type": "code",
   "execution_count": 26,
   "id": "816841c2-63dd-4f54-b831-8dcac41d85c0",
   "metadata": {},
   "outputs": [
    {
     "name": "stdout",
     "output_type": "stream",
     "text": [
      "Linear Search Result: 3\n",
      "Binary Search Result: 2\n"
     ]
    }
   ],
   "source": [
    "def linear_search(lst, target):\n",
    "    for index, value in enumerate(lst):\n",
    "        if value == target:\n",
    "            return index\n",
    "    return -1\n",
    "\n",
    "def binary_search(lst, target):\n",
    "    left, right = 0, len(lst) - 1\n",
    "    while left <= right:\n",
    "        mid = (left + right) // 2\n",
    "        if lst[mid] == target:\n",
    "            return mid\n",
    "        elif lst[mid] < target:\n",
    "            left = mid + 1\n",
    "        else:\n",
    "            right = mid - 1\n",
    "    return -1\n",
    "\n",
    "search_list = [10, 726, 433, 13, 11]\n",
    "\n",
    "# Perform linear search\n",
    "linear_search_result = linear_search(search_list, 13)\n",
    "print(f'Linear Search Result: {linear_search_result}')\n",
    "\n",
    "# Perform binary search (requires sorted list)\n",
    "sorted_search_list = sorted(search_list)\n",
    "binary_search_result = binary_search(sorted_search_list, 13)\n",
    "print(f'Binary Search Result: {binary_search_result}')\n"
   ]
  },
  {
   "cell_type": "markdown",
   "id": "c06ec90a-282e-4e22-83e6-f4c41d04448d",
   "metadata": {},
   "source": [
    "Linear Search:\n",
    "- Each element in the list is sequentially compared to the target value until a match is discovered or the full list is scanned.\n",
    "- Time complexity is O(n), where n is the number of elements in the list.\n",
    "- In the worst-case scenario, linear search may have to go through the entire list to find the target, resulting in linear time complexity.\n",
    "- Works effectively with small datasets or unsorted lists where the cost of sorting is not justified."
   ]
  },
  {
   "cell_type": "code",
   "execution_count": null,
   "id": "82c8243c-080f-4591-b718-9c3d0f668e9c",
   "metadata": {},
   "outputs": [],
   "source": []
  }
 ],
 "metadata": {
  "kernelspec": {
   "display_name": "Python 3 (ipykernel)",
   "language": "python",
   "name": "python3"
  },
  "language_info": {
   "codemirror_mode": {
    "name": "ipython",
    "version": 3
   },
   "file_extension": ".py",
   "mimetype": "text/x-python",
   "name": "python",
   "nbconvert_exporter": "python",
   "pygments_lexer": "ipython3",
   "version": "3.11.9"
  }
 },
 "nbformat": 4,
 "nbformat_minor": 5
}
